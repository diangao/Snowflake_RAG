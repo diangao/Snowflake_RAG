{
 "cells": [
  {
   "cell_type": "code",
   "execution_count": 1,
   "id": "6dd886ce",
   "metadata": {},
   "outputs": [],
   "source": [
    "from dotenv import load_dotenv\n",
    "from snowflake.snowpark.session import Session\n",
    "from snowflake.snowpark.context import get_active_session\n",
    "\n",
    "\n",
    "import os\n",
    "\n",
    "load_dotenv()\n",
    "\n",
    "connection_params = {\n",
    "  \"account\":  \"KMKFZTE-FWB56344\",\n",
    "  \"user\": \"Xinwei Song\",\n",
    "  \"password\": \"Sxw@565321\",\n",
    "  \"role\": \"ACCOUNTADMIN\",\n",
    "  \"database\": \"ANIMAL_DATA\",\n",
    "  \"schema\": \"PUBLIC\",\n",
    "  \"warehouse\": \"COMPUTE_WH\",\n",
    "  \"cortex_search_service\":\"condition_match_search\"\n",
    "}\n",
    "\n",
    "snowpark_session = Session.builder.configs(connection_params).create()"
   ]
  },
  {
   "cell_type": "code",
   "execution_count": 2,
   "id": "0131811d-cc8a-430c-891d-2e697988a95b",
   "metadata": {},
   "outputs": [],
   "source": [
    "import os\n",
    "from snowflake.core import Root\n",
    "from typing import List\n",
    "\n",
    "COLUMNS = [\n",
    "    \"chunk\",\n",
    "    \"relative_path\",\n",
    "    \"pet_type\"\n",
    "]\n",
    "\n",
    "\n",
    "class CortexSearchRetriever:\n",
    "\n",
    "    def __init__(self, snowpark_session: Session, limit_to_retrieve: int = 4):\n",
    "        self._snowpark_session = snowpark_session\n",
    "        self._limit_to_retrieve = limit_to_retrieve\n",
    "\n",
    "    def retrieve(self, query: str) -> List[str]:\n",
    "        root = Root(self._snowpark_session)\n",
    "        cortex_search_service = (\n",
    "            root.databases[connection_params['database']]\n",
    "            .schemas[connection_params['schema']]\n",
    "            .cortex_search_services[connection_params['cortex_search_service']]\n",
    "        )\n",
    "        resp = cortex_search_service.search(\n",
    "            query=query,\n",
    "            columns=COLUMNS,\n",
    "            limit=self._limit_to_retrieve,\n",
    "        )\n",
    "\n",
    "        if resp.results:\n",
    "            return [curr[\"chunk\"] for curr in resp.results]\n",
    "        else:\n",
    "            return []\n"
   ]
  },
  {
   "cell_type": "code",
   "execution_count": 3,
   "id": "bfd34f38-424c-4105-939f-ceb5083c5431",
   "metadata": {},
   "outputs": [],
   "source": [
    "retriever = CortexSearchRetriever(snowpark_session=snowpark_session, limit_to_retrieve=4)\n",
    "\n",
    "retrieved_context = retriever.retrieve(query=\"my cat is vomiting.\")"
   ]
  },
  {
   "cell_type": "code",
   "execution_count": 4,
   "id": "5ede6b3f-bc8a-4624-9c59-20ef3c646530",
   "metadata": {
    "scrolled": true
   },
   "outputs": [
    {
     "data": {
      "text/plain": [
       "['As the need to vomit is perceived, the cat appears anxious and may seek attention and reassurance. You will also see the cat begin to salivate and make repeated efforts to swallow.As vomiting starts, a simultaneous contraction of the muscles of the stom- ach and abdominal wall occurs. This leads to an abrupt buildup in intra- abdominal pressure. At the same time, the lower esophageal sphincter relaxes. The stomach contents travel up the esophagus and out the mouth. As the cat vomits, it extends its neck and makes a harsh gagging sound. This sequence should be distinguished from the passive act of regurgitation described earlier.\\\\n## CAUSES OF VOMITING\\\\nThe most common cause of vomiting is swallowing hair or some other indi gestible foreign material, such as grass, that is irritating to the stomach. Most cats experience this at one time or another. Intestinal parasites may also cause stomach irritation. Other common causes are overeating or eating too fast. When kittens gobble their food and exercise immediately thereafter, they are likely to vomit. This kind of vomiting is not serious. It may be the result of feeding several kittens from a single pan, which encourages rapid eating. Separating kittens or feeding smaller meals often eliminates this problem. (For more on vomiting in kittens, see chapter 17.)If the cat vomits once or twice but appears perfectly normal before and after, the problem is not serious and can be treated at home (see Home Treatment of Vomiting, page 269). Vomiting',\n",
       " \"this problem. (For more on vomiting in kittens, see chapter 17.)If the cat vomits once or twice but appears perfectly normal before and after, the problem is not serious and can be treated at home (see Home Treatment of Vomiting, page 269). Vomiting unrelated to eating is frequently a\\\\n# 268 : CAT OWNER's HOME VETERINARY HANDBOOK\\\\nsign of an infectious disease, kidney or liver disease, or a central nervous sys- tem disorder. Diseases frequently associated with vomiting include feline pan leukopenia, tonsillitis, sore throat, inflammatory bowel disease, and infected uterus (acute metritis). Other signs of illness will be present. In young cats, sudden vomiting with fever is suspicious of panleukopenia.Another serious cause of vomiting is ingesting poison or a drug. Poisons are discussed on page 26. A most serious cause of vomiting is associated with peri- tonitis. This is an emergency. Causes are discussed in Painful Abdomen (page 15).It is often possible to understand your cat's problem by noticing how and when he vomits. Note whether it is repeated, and if so, whether it is sporadic or persistent. How soon after eating does it occur? Is it projectile? Inspect the vomitus for blood, fecal material, and foreign objects.\\\\n## Persistent Vomiting\\\\nThe cat vomits, then continues to retch, bringing up a frothy, clear fluid. This suggests spoiled food, grass, hairballs, other indigestibles, and certain diseases such as infectious enteritis, which irritate the stomach lining. If the vomiting is\",\n",
       " 'and peptic stomach ulceration, a condition that may be complicated by gastrointestinal bleeding. Aspirin and other nonsteroidal anti-inflammatory drugs should be given only under veterinary supervision.Finally, if there is no apparent explanation for the sporadic vomiting, the cat may be suffering from an internal disorder such as liver disease, kidney fail ure, diabetes, tonsillitis, infected uterus, pancreatitis, hyperthyroidism, irrita- ble bowel disease, or heartworm disease. The bacteria Helicobacter pyloris (see page 74) is a possible cause of chronic gastritis.Treatment: This depends on finding and correcting the underlying cause. A cat with chronic vomiting should be examined by a veterinarian. Special diagnostic studies may be required. These may include a biopsy of the stomach or intestine by endoscopy, special dye studies with X-rays, or ultrasound exami- nations. Blood work is usually needed to rule out certain diseases. Cats with chronic vomiting often require a special, customized diet to fit the particular disease causing the vomiting. Famotidine (Pepcid) may be helpful.\\\\n## FOOD INTOLERANCE\\\\nSome cats are unable to tolerate certain foods or specific brands of commer- cial cat food. This is determined by trial and error. Food hypersensitivity or intolerance could be the problem if your cat vomits about two hours after eat ing. Grains, especially wheat and corn, are common culprits. Cats may also develop an intolerance to a specific protein source, such as chicken or fish.',\n",
       " \"can press on the esophagus. creating a physical blockage.264 : CAT OWNER's HOME VETERINARY HANDBOOKTreatment: Surgical removal of benign tumors (and malignant tumors that have not spread) offers the best chance for cure.\\\\n# The Stomach\\\\nStomach problems are often associated with vomiting. Since vomiting is so common in cats, it will be discussed in a separate section (see page 267).\\\\n## ACUTE GASTRITIS\\\\nGastritis is an irritation of the lining of the stomach that comes on suddenly. The principal sign is severe and continuous vomiting. Acute gastritis is severe and continuous vomiting that comes on suddenly. It is most likely caused by swallowing an irritant or a poison. Common stomach irritants include grass and other plants, hair, bones, spoiled food, and garbage. Certain drugs, notably aspirin, but also cortisone, butazolidin, and some antibiotics, produce gastric irritation. Common poisons include antifreeze, fertilizers, plant toxins, crabgrass killers, and rat poisons. If any of these is suspected, notify your vet- erinarian.A cat with an acute gastritis vomits shortly after eating and later stops eat- ing altogether and appears lethargic, sitting with his head hanging over the water bowl. His temperature remains normal unless the cat has an acute enteritis, a disease that also causes diarrhea.Keep in mind that persistent vomiting is also associated with life-threaten- ing diseases such as intestinal obstruction and peritonitis. Seek professional consultation in all cases where the\"]"
      ]
     },
     "execution_count": 4,
     "metadata": {},
     "output_type": "execute_result"
    }
   ],
   "source": [
    "retrieved_context"
   ]
  },
  {
   "cell_type": "code",
   "execution_count": 5,
   "id": "231dbb9c",
   "metadata": {},
   "outputs": [
    {
     "name": "stderr",
     "output_type": "stream",
     "text": [
      "Running the TruLens dashboard requires providing a `password` to the `SnowflakeConnector`.\n"
     ]
    },
    {
     "name": "stdout",
     "output_type": "stream",
     "text": [
      "🦑 Initialized with db url snowflake://Xinwei Song:***@KMKFZTE-FWB56344/ANIMAL_DATA/PUBLIC?role=ACCOUNTADMIN&warehouse=COMPUTE_WH .\n",
      "🛑 Secret keys may be written to the database. See the `database_redact_keys` option of `TruSession` to prevent this.\n",
      "Error setting TruLens workspace version tag: 000002 (0A000): Unsupported feature 'TAG'., check if you have enterprise version of Snowflake.\n",
      "🦑 Migrating DB ...\n"
     ]
    },
    {
     "name": "stderr",
     "output_type": "stream",
     "text": [
      "Database does not need migration.\n"
     ]
    },
    {
     "name": "stdout",
     "output_type": "stream",
     "text": [
      "Tru instance initialized successfully!\n"
     ]
    }
   ],
   "source": [
    "# from trulens.core import TruSession\n",
    "# from trulens.connectors.snowflake import SnowflakeConnector\n",
    "\n",
    "# tru_snowflake_connector = SnowflakeConnector(snowpark_session=snowpark_session)\n",
    "\n",
    "# tru_session = TruSession(connector=tru_snowflake_connector)\n",
    "\n",
    "from trulens.core import TruSession\n",
    "from trulens.connectors.snowflake import SnowflakeConnector\n",
    "from trulens.apps.custom import TruCustomApp\n",
    "\n",
    "tru_snowflake_connector = SnowflakeConnector(snowpark_session=snowpark_session)\n",
    "tru_session = TruSession(connector=tru_snowflake_connector)\n",
    "tru_session.migrate_database()\n",
    "\n",
    "print(\"Tru instance initialized successfully!\")\n"
   ]
  },
  {
   "cell_type": "code",
   "execution_count": 6,
   "id": "31b82333-65eb-4c05-95a5-ff20eadbba74",
   "metadata": {},
   "outputs": [
    {
     "name": "stdout",
     "output_type": "stream",
     "text": [
      "decorating <function RAG_from_scratch.retrieve_context at 0x10983f100>\n",
      "decorating <function RAG_from_scratch.rewrite_query at 0x12fac84a0>\n",
      "decorating <function RAG_from_scratch.generate_completion at 0x10983f380>\n",
      "decorating <function RAG_from_scratch.query at 0x10984d260>\n",
      "adding method <class '__main__.RAG_from_scratch'> retrieve_context __main__\n",
      "adding method <class '__main__.RAG_from_scratch'> rewrite_query __main__\n",
      "adding method <class '__main__.RAG_from_scratch'> generate_completion __main__\n",
      "adding method <class '__main__.RAG_from_scratch'> query __main__\n"
     ]
    }
   ],
   "source": [
    "from trulens.apps.custom import instrument\n",
    "import json\n",
    "\n",
    "class RAG_from_scratch:\n",
    "    def __init__(self, cortex_service, model_name=\"mistral-large2\"):\n",
    "        \"\"\"\n",
    "        Initialize the RAG module to integrate Snowflake Cortex Search and model inference.\n",
    "        \"\"\"\n",
    "        self.cortex_service = cortex_service  # Your Cortex Search Service instance\n",
    "        self.model_name = model_name  # Model name, e.g., mistral-large2\n",
    "\n",
    "    @instrument\n",
    "    def retrieve_context(self, query: str, pet_type: str = None) -> list:\n",
    "        \"\"\"\n",
    "        Retrieve relevant context using Snowflake Cortex Search.\n",
    "        \"\"\"\n",
    "        # Step 1: Call Cortex Search Service\n",
    "        # You can choose between your exact_type_search or condition_match_search\n",
    "        filter_condition = {\n",
    "            \"@or\": [\n",
    "                {\"@eq\": {\"pet_type\": pet_type or \"Undefined\"}}, {\"@eq\": {\"pet_type\": \"Undefined\"}}\n",
    "            ]\n",
    "        }\n",
    "\n",
    "        try:\n",
    "            # Call Cortex Search Service\n",
    "            response = self.cortex_service.search(\n",
    "                query=query,\n",
    "                columns=[\"chunk\", \"relative_path\", \"pet_type\"],\n",
    "                limit=5,\n",
    "                filter=filter_condition\n",
    "            )\n",
    "            json_response = json.loads(response.to_json())\n",
    "\n",
    "            # Extract context chunks\n",
    "            return [item[\"chunk\"] for item in json_response.get(\"results\", [])]\n",
    "        except Exception as e:\n",
    "            print(f\"Error in retrieving context: {str(e)}\")\n",
    "            return []\n",
    "\n",
    "    @instrument\n",
    "    def rewrite_query(self, query: str, chat_history: list = None) -> str:\n",
    "        \"\"\"\n",
    "        Rewrite the query to improve relevance for database retrieval.\n",
    "        \"\"\"\n",
    "        # Step 1: If chat history exists, use it to summarize the query\n",
    "        if chat_history:\n",
    "            prompt = f\"\"\"\n",
    "            Based on the following chat history and user question, rewrite the query to make it more specific and aligned with the user's needs:\n",
    "            Chat History: {chat_history}\n",
    "            User Question: {query}\n",
    "            Rewritten Query:\n",
    "            \"\"\"\n",
    "        else:\n",
    "            prompt = f\"\"\"\n",
    "            Rewrite the following query to make it more formal, specific, and relevant for retrieving pet-related medical information from the database:\n",
    "            Query: {query}\n",
    "            Rewritten Query:\n",
    "            \"\"\"\n",
    "\n",
    "        rewritten_query = snowpark_session.sql(\n",
    "            \"SELECT SNOWFLAKE.CORTEX.COMPLETE(?, ?)\",\n",
    "            params=[self.model_name, prompt]\n",
    "        ).collect()[0]['SNOWFLAKE.CORTEX.COMPLETE(?, ?)']\n",
    "        return rewritten_query.strip()\n",
    "\n",
    "    @instrument\n",
    "    def generate_completion(self, query: str, context: list) -> str:\n",
    "        \"\"\"\n",
    "        Generate a response based on the retrieved context and user query.\n",
    "        \"\"\"\n",
    "        # Combine the context into the prompt\n",
    "        context_str = \"\\n\".join(context)\n",
    "        prompt = f\"\"\"\n",
    "        You are a professional assistant for pet health issues.\n",
    "        Use the context provided below to answer the question. Do not fabricate information, and only base your response on the provided context.\n",
    "        If the context is insufficient, explicitly state that you do not have enough information.\n",
    "        Context: {context_str}\n",
    "        Question: {query}\n",
    "        Answer:\n",
    "        \"\"\"\n",
    "        response = snowpark_session.sql(\n",
    "            \"SELECT SNOWFLAKE.CORTEX.COMPLETE(?, ?)\",\n",
    "            params=[self.model_name, prompt]\n",
    "        ).collect()[0]['SNOWFLAKE.CORTEX.COMPLETE(?, ?)']\n",
    "\n",
    "        return response.strip()\n",
    "\n",
    "    @instrument\n",
    "    def query(self, question: str, pet_type: str = None, chat_history: list = None) -> str:\n",
    "        \"\"\"\n",
    "        Process the user question: integrate query rewriting, context retrieval, and response generation.\n",
    "        \"\"\"\n",
    "        # Step 1: Rewrite the user question\n",
    "        rewritten_query = self.rewrite_query(question, chat_history)\n",
    "\n",
    "        # Step 2: Retrieve context using Cortex Search Service\n",
    "        context = self.retrieve_context(rewritten_query, pet_type)\n",
    "        print(\"Retrieved Context:\", context)\n",
    "\n",
    "\n",
    "        # Step 3: Generate a response\n",
    "        answer = self.generate_completion(rewritten_query, context)\n",
    "\n",
    "        return answer\n"
   ]
  },
  {
   "cell_type": "code",
   "execution_count": 7,
   "id": "341103fa-fe97-4de9-8e66-4cca468df7e4",
   "metadata": {},
   "outputs": [
    {
     "name": "stdout",
     "output_type": "stream",
     "text": [
      "✅ In Groundedness, input source will be set to __record__.app.retrieve_context.rets[:].collect() .\n",
      "✅ In Groundedness, input statement will be set to __record__.main_output or `Select.RecordOutput` .\n",
      "✅ In Context Relevance, input question will be set to __record__.main_input or `Select.RecordInput` .\n",
      "✅ In Context Relevance, input context will be set to __record__.app.retrieve_context.rets[:] .\n",
      "✅ In Answer Relevance, input prompt will be set to __record__.main_input or `Select.RecordInput` .\n",
      "✅ In Answer Relevance, input response will be set to __record__.main_output or `Select.RecordOutput` .\n",
      "<class 'trulens.core.feedback.feedback.Feedback'> FeedbackDefinition(Groundedness,\n",
      "\tselectors={'source': Lens().__record__.app.retrieve_context.rets[:].collect(), 'statement': Lens().__record__.main_output},\n",
      "\tif_exists=None\n",
      ")\n",
      "<class 'trulens.core.feedback.feedback.Feedback'> FeedbackDefinition(Context Relevance,\n",
      "\tselectors={'question': Lens().__record__.main_input, 'context': Lens().__record__.app.retrieve_context.rets[:]},\n",
      "\tif_exists=None\n",
      ")\n",
      "<class 'trulens.core.feedback.feedback.Feedback'> FeedbackDefinition(Answer Relevance,\n",
      "\tselectors={'prompt': Lens().__record__.main_input, 'response': Lens().__record__.main_output},\n",
      "\tif_exists=None\n",
      ")\n"
     ]
    }
   ],
   "source": [
    "from trulens.providers.cortex.provider import Cortex\n",
    "from trulens.core import Feedback\n",
    "from trulens.core import Select\n",
    "import numpy as np\n",
    "import snowflake.connector\n",
    "\n",
    "\n",
    "provider = Cortex(snowpark_session, \"llama3.1-8b\")\n",
    "\n",
    "f_groundedness = (\n",
    "    Feedback(provider.groundedness_measure_with_cot_reasons, name=\"Groundedness\")\n",
    "    .on(Select.RecordCalls.retrieve_context.rets[:].collect())\n",
    "    .on_output()\n",
    ")\n",
    "\n",
    "f_context_relevance = (\n",
    "    Feedback(provider.context_relevance, name=\"Context Relevance\")\n",
    "    .on_input()\n",
    "    .on(Select.RecordCalls.retrieve_context.rets[:])\n",
    "    .aggregate(np.mean)\n",
    ")\n",
    "\n",
    "f_answer_relevance = (\n",
    "    Feedback(provider.relevance, name=\"Answer Relevance\")\n",
    "    .on_input()\n",
    "    .on_output()\n",
    "    .aggregate(np.mean)\n",
    ")\n",
    "\n",
    "print(type(f_groundedness), f_groundedness)\n",
    "print(type(f_context_relevance), f_context_relevance)\n",
    "print(type(f_answer_relevance), f_answer_relevance)"
   ]
  },
  {
   "cell_type": "code",
   "execution_count": 9,
   "id": "38f5559d-8f00-4b51-8a69-fdbc03b7d711",
   "metadata": {},
   "outputs": [
    {
     "name": "stdout",
     "output_type": "stream",
     "text": [
      "instrumenting <class '__main__.RAG_from_scratch'> for base <class '__main__.RAG_from_scratch'>\n",
      "\tinstrumenting retrieve_context\n",
      "\tinstrumenting rewrite_query\n",
      "\tinstrumenting generate_completion\n",
      "\tinstrumenting query\n",
      "skipping base <class 'object'> because of class\n",
      "App instance: <__main__.RAG_from_scratch object at 0x314185d10>\n",
      "Retrieved Context: [\"stupor, and blindness. These are also signs of encephalitis (see page 334).Treatment: Immediately after ingestion, induce vomiting. Seek immediate medical attention. Specific antidotes are available from your veterinarian, who can also do blood tests to determine the lead levels\\\\n# CORROSIVE HOUSEHOLD PRODUCTS\\\\nCorrosive and caustic chemicals (acids and alkalis) are found in household cleaners, dishwasher detergents, toilet bowl cleaners, drain decloggers, and commercial solvents. When ingested, they cause burns of the mouth, esopha gus, and stomach. Severe cases are associated with acute perforation of the esophagus and stomach. Later, strictures of these organs may develop from tissue damage and scarring. Even simply walking through a phenolic disinfectant solu- tion, such as Lysol, can be dangerous for cats, especially if they lick their feet to clean them.Treatment: Do not induce vomiting! Vomiting will simply double the tissue damage. Rinse out your cat's mouth-under a running faucet, if possible, or with a hose. Contact your veterinarian following any exposures to these products.The practice of giving an acid to neutralize an alkali, and vice versa, is no longer recommended because it causes heat injury to the lining of the stomach.If these products get on the cat's skin, prevent him from licking or groom- ing and flush the area thoroughly for at least 10 to 30 minutes with running water.\\\\n## GARBAGE AND FOOD POISONS\\\\nCats are more particular than dogs about what they eat.\", \"defects, 474-477 fading kitten syndrome and, 460|Creatinine, 570 Creeping eruption (cutaneous larvae|\\\\n|of the kidneys, 379|Cremation, 544|\\\\n|Congenital hypotrichosis, 131|Cross-eyed gaze (strabismus), 177|\\\\n|Congenital megaesophagus, 261262|Croupy breathing, 298|\\\\n|Congestive heart failure, 327|Cruciate, ruptured (torn knee ligament),|\\\\n\\\\n|Crying (meowing), kittens, 455|Dehydration, 22, 82, 220, 272, 275-277,|\\\\n| :---: | :---: |\\\\n|Cryosurgery, 518|304,375|\\\\n|Cryotherapy, 519|kidney failure and, 377, 378|\\\\n|Cryptococcosis, 98-99, 201, 228|in kittens, 459, 464, 466, 469, 470|\\\\n|Cryptococcus infection, 228|vomiting and, 269|\\\\n|Cryptorchidism (undescended testicles), 415, 421|Delivery. See Labor and delivery Delmadinone acetate (DMA), 428|\\\\n|CT scan, 355|Delta Society, 572|\\\\n|Cushing's disease, 266, 391|Demodectic mange, 131, 143-144, 179|\\\\n||Demodex cati, 213, 214|\\\\n|Cutaneous larvae migrans (creeping eruption), 63|Dental care, 244-247 Dental Fresh, 245|\\\\n|Cuterebra larvae, 225 Cuterebriasis (grubs), 148|Dental problems, 241-247 Depomedrol, 234|\\\\n|Cyanosis, 23, 305, 307, 314, 322|Dermis, 113|\\\\n|||\\\\n|Cyclosporin, ophthalmic, 188|De-skunking, 127|\\\\n|Cyproheptadine, 226, 227|Devon Rex cats, hereditary myopathy in,|\\\\n|Cystic endometrial hyperplasia, 422|Deworming, 57-59|\\\\n|||\\\\n|Cystic ovarian follicles, 417|Diabetes mellitus (sugar diabetes),|\\\\n|Cystitis, 380, 383, 386-387|291-294, 346, 391|\\\\n|||\\\\n|Cystocentesis, 373, 381, 384|Dialysis, 295, 377|\\\\n|Cystogram, 373|Diaphragmatic hernia,\", 'sp.|\\\\n|intolerance/ Enterotoxins||Strongyloides sp.|\\\\n|Viral Gastroenteritis||Isospora sp.|\\\\n|Parvovirus||(Spirocerca sp. [Dog])|\\\\n|Coronavirus||Toxic Gastroenteritis|\\\\n|Rotavirus||Beta, Agonists|\\\\n|FeLV/FIV [Cat]||Apomorphine [Dog]|\\\\n|Canine Distemper Virus||Xylazine|\\\\n|[Dog]||Syrup of ipecac [Cat]|\\\\n|Parasitic gastroenteritis||Ephedrine|\\\\n|Olulanus sp. [Cat] Physaloptera sp.||Local anaesthetics Tricyclic antidepressants|\\\\n||||\\\\n||||\\\\n\\\\n|Dog||Cat||\\\\n| :---: | :---: | :---: | :---: |\\\\n|+++|Food intolerance|+++|Food intolerance|\\\\n|++|Ingestion of grass (cause or effect?)|++|Ingestion of grass (cause or effect|\\\\n|++|Gastritis|++|Gastritis|\\\\n|++|Gastric/Intestinal ulcer|++|Gastric/Intestinal ulcer|\\\\n|++|Gastrointestinal obstruction|++|Gastrointestinal obstruction|\\\\n|++|Motility disturbances|++|Motility disturbances|\\\\n||Organ failure|X|Organ failure|\\\\nAcute Vomitus\\\\n|Foreign body|Stenocephala sp.|\\\\n| :---: | :---: |\\\\n|Food intolerance/ Enterotoxins|Strongyloides sp.|\\\\n|Viral Gastroenteritis|Isospora sp.|\\\\n|Parvovirus|(Spirocerca sp. [Dog])|\\\\n|Coronavirus|Toxic Gastroenteritis|\\\\n|Rotavirus|Beta, Agonists|\\\\n|FeLV/FIV [Cat]|Apomorphine [Dog]|\\\\n|Canine Distemper Virus|Xylazine|\\\\n|[Dog]|Syrup of ipecac [Cat]|\\\\n|Parasitic gastroenteritis|Ephedrine|\\\\n|Olulanus sp. [Cat]|Local anaesthetics|\\\\n|Physaloptera sp.|Tricyclic antidepressants|\\\\n  \\\\nAcute Gastritis\\\\n* Foreign body\\\\n\\\\n# GASTROINTESTINAL PRINCIPAL SYMPTOMS 109\\\\n\\\\n||Loperamide|- Volvulus|\\\\n| :---: | :---: | :---: |\\\\n||Bromocriptine|Pyloric', \"and vitamin E are useful antioxidants that can help the liver heal, and milk thistle is an herb with liver-protectant qualities. If inflammatory bowel disease is also involved, the cat may need immunosuppressive drugs such as prednisone.Ursodeoxycholic acid (Actigall) is a human medication that has been used off-label in cats with cholangiohepatitis, and is important as an anti-inflam- matory as well as for improving bile flow.Survival rate is about 50 percent-higher if the cat is diagnosed and treated aggressively early in the course of the disease. This often includes sup- plemental feeding through a tube.\\\\n## PORTOSYSTEMIC SHUNT\\\\nA portosystemic shunt is an inherited anatomical defect that is present at birth. In a normal kitten or cat, food is eaten and digested, then absorbed through the intestines into a large vein called the portal vein. This vein carries digestive products to the liver, where nutrients are metabolized, detoxified, and used to create new substances. In cats with portosystemic shunt, an abnormal portal vein bypasses the liver and takes blood directly to the heart. This means the nutrients and waste products are not processed by the liver. Ammonia products build up in the cat's system and many behavioral abnormalities may be seen such as circling, head pressing, or seizures (see Hepatic Lipidosis, page 288). Weight loss, excessive drooling, vomiting, and diarrhea may be seen.  \\\\nTHE DIGESTIVE SYSTEM : 291Diagnosis is done via blood work and looking at special X-ray\", 'box is getting dirty faster. This large urine output must be compensated for by increased fluid intake, and the cat will drink a lot more than usual. Also, because the urine is dilute (not concentrated), bacterial infections of the bladder and kidneys are much more common.As renal function continues to deteriorate, the cat begins to retain ammonia, nitrogen, acids, and other waste products in the bloodstream and tissues (ure- mic poisoning). Blood chemistries will determine the exact levels of these metabolic products. Cats in the later stages of kidney failure may produce less urine than normal and, eventually, no urine at all, which leads to rapid declineSigns of uremia include apathy and sluggishness, loss of appetite and weight, dry haircoat, a brownish discoloration to the surface of the tongue, and ulcers on the gums and tongue. The breath may have an ammonialike odor. Vomiting, diarrhea, anemia, and episodes of gastrointestinal bleeding can occur. Eventually, the cat falls into a coma and dies.Diagnosing kidney failure may require a number of techniques. X-rays, with or without dye studies, along with ultrasound evaluations, can be impor- tant. Blood work, especially blood chemistry panels that look for toxic waste levels in the blood, should be done. Many cats will show increased levels of BUN (blood urea nitrogen), creatinine, and phosphorus. Anemia will show up in cats with chronic renal failure.A urinalysis will show if the kidneys can still filter and concentrate the urine.']\n",
      "Based on the provided context, if your cat is lethargic and vomiting, you should seek immediate medical attention from your veterinarian. These symptoms can be signs of various serious conditions, including kidney failure or poisoning. It's crucial to have your cat examined by a professional to determine the cause and receive appropriate treatment.\n"
     ]
    }
   ],
   "source": [
    "from trulens.apps.custom import TruCustomApp\n",
    "from snowflake.core import Root\n",
    "from snowflake.snowpark import Session\n",
    "from trulens.apps.custom import instrument\n",
    "\n",
    "\n",
    "# Initialize Snowflake Cortex Search Service\n",
    "root = Root(snowpark_session)\n",
    "cortex_service = root.databases[\"ANIMAL_DATA\"].schemas[\"PUBLIC\"].cortex_search_services[\"condition_match_search\"]\n",
    "\n",
    "# Initialize your RAG class\n",
    "rag = RAG_from_scratch(cortex_service=cortex_service)\n",
    "\n",
    "# Wrap RAG_from_scratch with TruLens for monitoring\n",
    "tru_rag = TruCustomApp(\n",
    "    app=rag,\n",
    "    app_version=\"1.0.0\",\n",
    "    monitor_costs=False\n",
    ")\n",
    "\n",
    "print(\"App instance:\", tru_rag.app)\n",
    "\n",
    "# Test query\n",
    "question = \"My cat is vomiting. What should I do?\"\n",
    "pet_type = \"Large Cat\"\n",
    "chat_history = [\"My cat has been lethargic for a few days.\"]\n",
    "\n",
    "# Instrumented call using TruLens\n",
    "answer = tru_rag.app.query(\n",
    "    question,\n",
    "    pet_type=pet_type or \"Large Cat\",\n",
    "    chat_history=chat_history\n",
    ")\n",
    "\n",
    "\n",
    "# Print the result\n",
    "print(answer)\n"
   ]
  },
  {
   "cell_type": "code",
   "execution_count": 16,
   "id": "7cdc52ef-bbbd-4aa7-afff-2f3520997ca2",
   "metadata": {
    "scrolled": true
   },
   "outputs": [
    {
     "name": "stderr",
     "output_type": "stream",
     "text": [
      "Could not find an instance of OpenAIEndpoint. trulens will create an endpoint for cost tracking.\n",
      "Could not find an instance of OpenAIEndpoint. trulens will create an endpoint for cost tracking.\n"
     ]
    },
    {
     "name": "stdout",
     "output_type": "stream",
     "text": [
      "calling <function RAG_from_scratch.query at 0x10984d260> with (<__main__.RAG_from_scratch object at 0x314185d10>, 'My cat is vomiting. What should I do?')\n",
      "calling <function RAG_from_scratch.rewrite_query at 0x12fac84a0> with (<__main__.RAG_from_scratch object at 0x314185d10>, 'My cat is vomiting. What should I do?', None)\n"
     ]
    },
    {
     "name": "stderr",
     "output_type": "stream",
     "text": [
      "Could not find an instance of OpenAIEndpoint. trulens will create an endpoint for cost tracking.\n"
     ]
    },
    {
     "name": "stdout",
     "output_type": "stream",
     "text": [
      "calling <function RAG_from_scratch.retrieve_context at 0x10983f100> with (<__main__.RAG_from_scratch object at 0x314185d10>, 'Rewritten Query:\\n              \"My cat is experiencing episodes of vomiting. What are the recommended steps I should take to address this medical issue?\"', None)\n"
     ]
    },
    {
     "name": "stderr",
     "output_type": "stream",
     "text": [
      "Could not find an instance of OpenAIEndpoint. trulens will create an endpoint for cost tracking.\n"
     ]
    },
    {
     "name": "stdout",
     "output_type": "stream",
     "text": [
      "Retrieved Context: ['sp.|\\\\n|intolerance/ Enterotoxins||Strongyloides sp.|\\\\n|Viral Gastroenteritis||Isospora sp.|\\\\n|Parvovirus||(Spirocerca sp. [Dog])|\\\\n|Coronavirus||Toxic Gastroenteritis|\\\\n|Rotavirus||Beta, Agonists|\\\\n|FeLV/FIV [Cat]||Apomorphine [Dog]|\\\\n|Canine Distemper Virus||Xylazine|\\\\n|[Dog]||Syrup of ipecac [Cat]|\\\\n|Parasitic gastroenteritis||Ephedrine|\\\\n|Olulanus sp. [Cat] Physaloptera sp.||Local anaesthetics Tricyclic antidepressants|\\\\n||||\\\\n||||\\\\n\\\\n|Dog||Cat||\\\\n| :---: | :---: | :---: | :---: |\\\\n|+++|Food intolerance|+++|Food intolerance|\\\\n|++|Ingestion of grass (cause or effect?)|++|Ingestion of grass (cause or effect|\\\\n|++|Gastritis|++|Gastritis|\\\\n|++|Gastric/Intestinal ulcer|++|Gastric/Intestinal ulcer|\\\\n|++|Gastrointestinal obstruction|++|Gastrointestinal obstruction|\\\\n|++|Motility disturbances|++|Motility disturbances|\\\\n||Organ failure|X|Organ failure|\\\\nAcute Vomitus\\\\n|Foreign body|Stenocephala sp.|\\\\n| :---: | :---: |\\\\n|Food intolerance/ Enterotoxins|Strongyloides sp.|\\\\n|Viral Gastroenteritis|Isospora sp.|\\\\n|Parvovirus|(Spirocerca sp. [Dog])|\\\\n|Coronavirus|Toxic Gastroenteritis|\\\\n|Rotavirus|Beta, Agonists|\\\\n|FeLV/FIV [Cat]|Apomorphine [Dog]|\\\\n|Canine Distemper Virus|Xylazine|\\\\n|[Dog]|Syrup of ipecac [Cat]|\\\\n|Parasitic gastroenteritis|Ephedrine|\\\\n|Olulanus sp. [Cat]|Local anaesthetics|\\\\n|Physaloptera sp.|Tricyclic antidepressants|\\\\n  \\\\nAcute Gastritis\\\\n* Foreign body\\\\n\\\\n# GASTROINTESTINAL PRINCIPAL SYMPTOMS 109\\\\n\\\\n||Loperamide|- Volvulus|\\\\n| :---: | :---: | :---: |\\\\n||Bromocriptine|Pyloric', '425, 430 kittening preparations, 433-434 morning sickness during, 430-431 prenatal checkups, 432-433 unwanted, 425-426 Pregnant women, toxoplasmosis and, 6869 Prenatal checkups, 432-433 Prepuce, infection of (balanoposthitis), 420 Pressure dressings, 48 Prey, bringing home, 487 Prick ear, 205 Primary hyperparathyroidism, 365 Probiotics, 271, 479 Proctitis (inflamed anus and rectum), 282-283 Proestrus, 408, 409 Progesterone, 410, 417 fetal loss and, 418, 419GENERAL INDEX : 619\\\\n|Progesterone therapy, 526|Queening box, 433, 473|\\\\n| :---: | :---: |\\\\n|Program (lufenuron), 135|temperature of, 456|\\\\n|Progressive retinal atrophy, 200|Queens, 403-4. See also Breeding;|\\\\n|Projectile vomiting, 269|Lactation; Nursing: Pregnancy;|\\\\n|Prolactin inhibitors, 426|Reproductive system (genitourinary|\\\\n|Promace (acepromazine), 266, 552|system)|\\\\n|Propoxur, 36|birth control, 426-428|\\\\n|Prostaglandin PGF2a, 425-426|cannibalism by, 450-451|\\\\n|Prostate gland, 370|fertility problems in, 416-418|\\\\n|Protein, 491 amino acids, 495 in commercial cat foods, 496-501 geriatric cats and, 508|genital tract diseases, 422-426 postpartum problems, 445-448 pre-breeding checkup, 404-405 Quills, porcupine, 252-253|\\\\n|||\\\\n|kittens and, 505, 506 total, 571|Rabies, 49, 95-98|\\\\n|Protozoal parasites, 67|vaccines, 109, 111, 112, 531|\\\\n|||\\\\n|Protozoan diseases, 101. See also|Radiation therapy, 518, 519|\\\\n|Coccidiosis; Toxoplasmosis|Radioactive iodine therapy, 530|\\\\n|Protruding discs, 344|Ranitidine, 267, 289, 378|\\\\n|Prozac', 'hyperplasia, 422|Deworming, 57-59|\\\\n|||\\\\n|Cystic ovarian follicles, 417|Diabetes mellitus (sugar diabetes),|\\\\n|Cystitis, 380, 383, 386-387|291-294, 346, 391|\\\\n|||\\\\n|Cystocentesis, 373, 381, 384|Dialysis, 295, 377|\\\\n|Cystogram, 373|Diaphragmatic hernia, 307|\\\\n|Cystoisospora felis, 69|Diarrhea, 15, 278-282|\\\\n|||\\\\n|Cystoscopy, 386|antibiotics and, 548-549|\\\\n|||\\\\n|Cysts|emotional, 279|\\\\n|||\\\\n|ceruminous (wax) gland, 216|in kittens, 468, 470, 471, 480|\\\\n|epidermal inclusion (sebaceous),|in older cats, 540|\\\\n|520-521|overfeeding and, 464, 466, 467|\\\\n|ovarian, 417|treating, 281-282|\\\\n|polycystic kidney disease (PKD), 379|Diazepam (Valium), 30, 34, 36, 38, 135,|\\\\n|salivary gland, 254-255|288, 340, 552|\\\\n|Cytauxzoon felis, 325|Dibothriocephalus latus, 65|\\\\n|Cytauxzoonosis, 325|Diet(s). See also Feeding; Food;|\\\\n||Nutrition|\\\\n|Dairy products, diarrhea and, 281|anal gland infections and, 286|\\\\n|Dandruff, walking, 131, 142|cancers and, 519|\\\\n|Deafness, 196, 217-219, 400. See also|complete and balanced, 501|\\\\n|Hearing loss|dental hygiene and, 245|\\\\n|congenital, 171|dental problems and, 241, 244|\\\\n|in older cats, 536|for diabetic cats, 294|\\\\n|51 (baby) teeth, 241-242|fat in, 116, 491-492|\\\\n|Declawing, 351-353|feline lower urinary tract disease|\\\\n||(FLUTD) and, 383, 387, 388|\\\\n|Defecation. See also Feces (stools) by kittens, 453, 462|flatulence and, 275|\\\\n|litter box training, 392|food intolerance and, 265|\\\\n|Degenerative joint disease|hairball control, 128, 129|\\\\n|(oste0arthritis), 354, 361-363|for', \"defects, 474-477 fading kitten syndrome and, 460|Creatinine, 570 Creeping eruption (cutaneous larvae|\\\\n|of the kidneys, 379|Cremation, 544|\\\\n|Congenital hypotrichosis, 131|Cross-eyed gaze (strabismus), 177|\\\\n|Congenital megaesophagus, 261262|Croupy breathing, 298|\\\\n|Congestive heart failure, 327|Cruciate, ruptured (torn knee ligament),|\\\\n\\\\n|Crying (meowing), kittens, 455|Dehydration, 22, 82, 220, 272, 275-277,|\\\\n| :---: | :---: |\\\\n|Cryosurgery, 518|304,375|\\\\n|Cryotherapy, 519|kidney failure and, 377, 378|\\\\n|Cryptococcosis, 98-99, 201, 228|in kittens, 459, 464, 466, 469, 470|\\\\n|Cryptococcus infection, 228|vomiting and, 269|\\\\n|Cryptorchidism (undescended testicles), 415, 421|Delivery. See Labor and delivery Delmadinone acetate (DMA), 428|\\\\n|CT scan, 355|Delta Society, 572|\\\\n|Cushing's disease, 266, 391|Demodectic mange, 131, 143-144, 179|\\\\n||Demodex cati, 213, 214|\\\\n|Cutaneous larvae migrans (creeping eruption), 63|Dental care, 244-247 Dental Fresh, 245|\\\\n|Cuterebra larvae, 225 Cuterebriasis (grubs), 148|Dental problems, 241-247 Depomedrol, 234|\\\\n|Cyanosis, 23, 305, 307, 314, 322|Dermis, 113|\\\\n|||\\\\n|Cyclosporin, ophthalmic, 188|De-skunking, 127|\\\\n|Cyproheptadine, 226, 227|Devon Rex cats, hereditary myopathy in,|\\\\n|Cystic endometrial hyperplasia, 422|Deworming, 57-59|\\\\n|||\\\\n|Cystic ovarian follicles, 417|Diabetes mellitus (sugar diabetes),|\\\\n|Cystitis, 380, 383, 386-387|291-294, 346, 391|\\\\n|||\\\\n|Cystocentesis, 373, 381, 384|Dialysis, 295, 377|\\\\n|Cystogram, 373|Diaphragmatic hernia,\", \"47-55 puncture, 49|\\\\n|||\\\\n|||\\\\n|kidney failure and, 378 persistent, 268|Xylitol, 40|\\\\n|projectile, 269|Yeast otitis externa, 215|\\\\n|regurgitation distinguished from, 260, 261|Yeast stomatitis (thrush), 36, 251|\\\\n|sporadic, 268|Zinc phosphide, poisoning by, 215|\\\\n  \\\\nViral diseases, 79-98 Viral pneumonia, 81 in kittens, 469, 471-472 Viral respiratory disease complex. See Feline viral respiratory disease complex Viral (ulcerative) stomatitis, 251 Viremia, feline leukemia virus (FeLV) and, 90-91 Virulent systemic feline calicivirus, 84 vaccine, 108-109 Vision (eyesight), 168-169. See also Blindness night, 169 in older cats, 536 testing for, 173 Vitamin A, 368, 415, 495, 503, 506, 511 intake of excessive amounts of, 364 Vitamin and mineral supplements, 478, 506 pregnancy and, 432 Vitamin B supplements, 378 Vitamin D (calcitriol or cholecalciferol), 33, 366, 368, 378, 449, 495-496, 511 osteomalacia (rickets) and, 367 Vitamin deficiency diseases, 367 Vitamin E, 116, 290, 367, 509, 512 Vitamins and minerals, 495-496 geriatric cats and, 508-509 overdose of, 367-368 Voiding. See Urine (urination; voiding) Volvulus, 266 Vomeronasal organ (Jacobson's organ), 221 Vomiting, 267-270 anesthesia and, 547 aspiration of foreign material during, 306 blood, 268 causes of, 267-268 feces, 268 foreign objects, 269 home treatment of, 269-270 inducing, poisoning and, 28-29 kidney failure and, 378 persistent, 268 projectile, 269 regurgitation distinguished from, 260, 261 sporadic, 268Walking dandruff\"]\n",
      "calling <function RAG_from_scratch.generate_completion at 0x10983f380> with (<__main__.RAG_from_scratch object at 0x314185d10>, 'Rewritten Query:\\n              \"My cat is experiencing episodes of vomiting. What are the recommended steps I should take to address this medical issue?\"', ['sp.|\\\\n|intolerance/ Enterotoxins||Strongyloides sp.|\\\\n|Viral Gastroenteritis||Isospora sp.|\\\\n|Parvovirus||(Spirocerca sp. [Dog])|\\\\n|Coronavirus||Toxic Gastroenteritis|\\\\n|Rotavirus||Beta, Agonists|\\\\n|FeLV/FIV [Cat]||Apomorphine [Dog]|\\\\n|Canine Distemper Virus||Xylazine|\\\\n|[Dog]||Syrup of ipecac [Cat]|\\\\n|Parasitic gastroenteritis||Ephedrine|\\\\n|Olulanus sp. [Cat] Physaloptera sp.||Local anaesthetics Tricyclic antidepressants|\\\\n||||\\\\n||||\\\\n\\\\n|Dog||Cat||\\\\n| :---: | :---: | :---: | :---: |\\\\n|+++|Food intolerance|+++|Food intolerance|\\\\n|++|Ingestion of grass (cause or effect?)|++|Ingestion of grass (cause or effect|\\\\n|++|Gastritis|++|Gastritis|\\\\n|++|Gastric/Intestinal ulcer|++|Gastric/Intestinal ulcer|\\\\n|++|Gastrointestinal obstruction|++|Gastrointestinal obstruction|\\\\n|++|Motility disturbances|++|Motility disturbances|\\\\n||Organ failure|X|Organ failure|\\\\nAcute Vomitus\\\\n|Foreign body|Stenocephala sp.|\\\\n| :---: | :---: |\\\\n|Food intolerance/ Enterotoxins|Strongyloides sp.|\\\\n|Viral Gastroenteritis|Isospora sp.|\\\\n|Parvovirus|(Spirocerca sp. [Dog])|\\\\n|Coronavirus|Toxic Gastroenteritis|\\\\n|Rotavirus|Beta, Agonists|\\\\n|FeLV/FIV [Cat]|Apomorphine [Dog]|\\\\n|Canine Distemper Virus|Xylazine|\\\\n|[Dog]|Syrup of ipecac [Cat]|\\\\n|Parasitic gastroenteritis|Ephedrine|\\\\n|Olulanus sp. [Cat]|Local anaesthetics|\\\\n|Physaloptera sp.|Tricyclic antidepressants|\\\\n  \\\\nAcute Gastritis\\\\n* Foreign body\\\\n\\\\n# GASTROINTESTINAL PRINCIPAL SYMPTOMS 109\\\\n\\\\n||Loperamide|- Volvulus|\\\\n| :---: | :---: | :---: |\\\\n||Bromocriptine|Pyloric', '425, 430 kittening preparations, 433-434 morning sickness during, 430-431 prenatal checkups, 432-433 unwanted, 425-426 Pregnant women, toxoplasmosis and, 6869 Prenatal checkups, 432-433 Prepuce, infection of (balanoposthitis), 420 Pressure dressings, 48 Prey, bringing home, 487 Prick ear, 205 Primary hyperparathyroidism, 365 Probiotics, 271, 479 Proctitis (inflamed anus and rectum), 282-283 Proestrus, 408, 409 Progesterone, 410, 417 fetal loss and, 418, 419GENERAL INDEX : 619\\\\n|Progesterone therapy, 526|Queening box, 433, 473|\\\\n| :---: | :---: |\\\\n|Program (lufenuron), 135|temperature of, 456|\\\\n|Progressive retinal atrophy, 200|Queens, 403-4. See also Breeding;|\\\\n|Projectile vomiting, 269|Lactation; Nursing: Pregnancy;|\\\\n|Prolactin inhibitors, 426|Reproductive system (genitourinary|\\\\n|Promace (acepromazine), 266, 552|system)|\\\\n|Propoxur, 36|birth control, 426-428|\\\\n|Prostaglandin PGF2a, 425-426|cannibalism by, 450-451|\\\\n|Prostate gland, 370|fertility problems in, 416-418|\\\\n|Protein, 491 amino acids, 495 in commercial cat foods, 496-501 geriatric cats and, 508|genital tract diseases, 422-426 postpartum problems, 445-448 pre-breeding checkup, 404-405 Quills, porcupine, 252-253|\\\\n|||\\\\n|kittens and, 505, 506 total, 571|Rabies, 49, 95-98|\\\\n|Protozoal parasites, 67|vaccines, 109, 111, 112, 531|\\\\n|||\\\\n|Protozoan diseases, 101. See also|Radiation therapy, 518, 519|\\\\n|Coccidiosis; Toxoplasmosis|Radioactive iodine therapy, 530|\\\\n|Protruding discs, 344|Ranitidine, 267, 289, 378|\\\\n|Prozac', 'hyperplasia, 422|Deworming, 57-59|\\\\n|||\\\\n|Cystic ovarian follicles, 417|Diabetes mellitus (sugar diabetes),|\\\\n|Cystitis, 380, 383, 386-387|291-294, 346, 391|\\\\n|||\\\\n|Cystocentesis, 373, 381, 384|Dialysis, 295, 377|\\\\n|Cystogram, 373|Diaphragmatic hernia, 307|\\\\n|Cystoisospora felis, 69|Diarrhea, 15, 278-282|\\\\n|||\\\\n|Cystoscopy, 386|antibiotics and, 548-549|\\\\n|||\\\\n|Cysts|emotional, 279|\\\\n|||\\\\n|ceruminous (wax) gland, 216|in kittens, 468, 470, 471, 480|\\\\n|epidermal inclusion (sebaceous),|in older cats, 540|\\\\n|520-521|overfeeding and, 464, 466, 467|\\\\n|ovarian, 417|treating, 281-282|\\\\n|polycystic kidney disease (PKD), 379|Diazepam (Valium), 30, 34, 36, 38, 135,|\\\\n|salivary gland, 254-255|288, 340, 552|\\\\n|Cytauxzoon felis, 325|Dibothriocephalus latus, 65|\\\\n|Cytauxzoonosis, 325|Diet(s). See also Feeding; Food;|\\\\n||Nutrition|\\\\n|Dairy products, diarrhea and, 281|anal gland infections and, 286|\\\\n|Dandruff, walking, 131, 142|cancers and, 519|\\\\n|Deafness, 196, 217-219, 400. See also|complete and balanced, 501|\\\\n|Hearing loss|dental hygiene and, 245|\\\\n|congenital, 171|dental problems and, 241, 244|\\\\n|in older cats, 536|for diabetic cats, 294|\\\\n|51 (baby) teeth, 241-242|fat in, 116, 491-492|\\\\n|Declawing, 351-353|feline lower urinary tract disease|\\\\n||(FLUTD) and, 383, 387, 388|\\\\n|Defecation. See also Feces (stools) by kittens, 453, 462|flatulence and, 275|\\\\n|litter box training, 392|food intolerance and, 265|\\\\n|Degenerative joint disease|hairball control, 128, 129|\\\\n|(oste0arthritis), 354, 361-363|for', \"defects, 474-477 fading kitten syndrome and, 460|Creatinine, 570 Creeping eruption (cutaneous larvae|\\\\n|of the kidneys, 379|Cremation, 544|\\\\n|Congenital hypotrichosis, 131|Cross-eyed gaze (strabismus), 177|\\\\n|Congenital megaesophagus, 261262|Croupy breathing, 298|\\\\n|Congestive heart failure, 327|Cruciate, ruptured (torn knee ligament),|\\\\n\\\\n|Crying (meowing), kittens, 455|Dehydration, 22, 82, 220, 272, 275-277,|\\\\n| :---: | :---: |\\\\n|Cryosurgery, 518|304,375|\\\\n|Cryotherapy, 519|kidney failure and, 377, 378|\\\\n|Cryptococcosis, 98-99, 201, 228|in kittens, 459, 464, 466, 469, 470|\\\\n|Cryptococcus infection, 228|vomiting and, 269|\\\\n|Cryptorchidism (undescended testicles), 415, 421|Delivery. See Labor and delivery Delmadinone acetate (DMA), 428|\\\\n|CT scan, 355|Delta Society, 572|\\\\n|Cushing's disease, 266, 391|Demodectic mange, 131, 143-144, 179|\\\\n||Demodex cati, 213, 214|\\\\n|Cutaneous larvae migrans (creeping eruption), 63|Dental care, 244-247 Dental Fresh, 245|\\\\n|Cuterebra larvae, 225 Cuterebriasis (grubs), 148|Dental problems, 241-247 Depomedrol, 234|\\\\n|Cyanosis, 23, 305, 307, 314, 322|Dermis, 113|\\\\n|||\\\\n|Cyclosporin, ophthalmic, 188|De-skunking, 127|\\\\n|Cyproheptadine, 226, 227|Devon Rex cats, hereditary myopathy in,|\\\\n|Cystic endometrial hyperplasia, 422|Deworming, 57-59|\\\\n|||\\\\n|Cystic ovarian follicles, 417|Diabetes mellitus (sugar diabetes),|\\\\n|Cystitis, 380, 383, 386-387|291-294, 346, 391|\\\\n|||\\\\n|Cystocentesis, 373, 381, 384|Dialysis, 295, 377|\\\\n|Cystogram, 373|Diaphragmatic hernia,\", \"47-55 puncture, 49|\\\\n|||\\\\n|||\\\\n|kidney failure and, 378 persistent, 268|Xylitol, 40|\\\\n|projectile, 269|Yeast otitis externa, 215|\\\\n|regurgitation distinguished from, 260, 261|Yeast stomatitis (thrush), 36, 251|\\\\n|sporadic, 268|Zinc phosphide, poisoning by, 215|\\\\n  \\\\nViral diseases, 79-98 Viral pneumonia, 81 in kittens, 469, 471-472 Viral respiratory disease complex. See Feline viral respiratory disease complex Viral (ulcerative) stomatitis, 251 Viremia, feline leukemia virus (FeLV) and, 90-91 Virulent systemic feline calicivirus, 84 vaccine, 108-109 Vision (eyesight), 168-169. See also Blindness night, 169 in older cats, 536 testing for, 173 Vitamin A, 368, 415, 495, 503, 506, 511 intake of excessive amounts of, 364 Vitamin and mineral supplements, 478, 506 pregnancy and, 432 Vitamin B supplements, 378 Vitamin D (calcitriol or cholecalciferol), 33, 366, 368, 378, 449, 495-496, 511 osteomalacia (rickets) and, 367 Vitamin deficiency diseases, 367 Vitamin E, 116, 290, 367, 509, 512 Vitamins and minerals, 495-496 geriatric cats and, 508-509 overdose of, 367-368 Voiding. See Urine (urination; voiding) Volvulus, 266 Vomeronasal organ (Jacobson's organ), 221 Vomiting, 267-270 anesthesia and, 547 aspiration of foreign material during, 306 blood, 268 causes of, 267-268 feces, 268 foreign objects, 269 home treatment of, 269-270 inducing, poisoning and, 28-29 kidney failure and, 378 persistent, 268 projectile, 269 regurgitation distinguished from, 260, 261 sporadic, 268Walking dandruff\"])\n",
      "Adding Feedbacks to the session...\n",
      "Groundedness Feedback: FeedbackDefinition(Groundedness,\n",
      "\tselectors={'source': Lens().__record__.app.retrieve_context.rets[:].collect(), 'statement': Lens().__record__.main_output},\n",
      "\tif_exists=None\n",
      ")\n",
      "Context Relevance Feedback: FeedbackDefinition(Context Relevance,\n",
      "\tselectors={'question': Lens().__record__.main_input, 'context': Lens().__record__.app.retrieve_context.rets[:]},\n",
      "\tif_exists=None\n",
      ")\n",
      "Answer Relevance Feedback: FeedbackDefinition(Answer Relevance,\n",
      "\tselectors={'prompt': Lens().__record__.main_input, 'response': Lens().__record__.main_output},\n",
      "\tif_exists=None\n",
      ")\n"
     ]
    },
    {
     "ename": "InvalidSelector",
     "evalue": "Selector __record__.app.retrieve_context.rets[:].collect() does not exist in source data.",
     "output_type": "error",
     "traceback": [
      "\u001b[0;31m---------------------------------------------------------------------------\u001b[0m",
      "\u001b[0;31mKeyError\u001b[0m                                  Traceback (most recent call last)",
      "File \u001b[0;32m/opt/homebrew/Caskroom/miniconda/base/envs/getting_started_llmops/lib/python3.11/site-packages/trulens/core/feedback/feedback.py:1198\u001b[0m, in \u001b[0;36mFeedback._extract_selection\u001b[0;34m(self, source_data, combinations, **kwargs)\u001b[0m\n\u001b[1;32m   1195\u001b[0m         logger\u001b[38;5;241m.\u001b[39mdebug(\n\u001b[1;32m   1196\u001b[0m             \u001b[38;5;124mf\u001b[39m\u001b[38;5;124m\"\u001b[39m\u001b[38;5;124mResult of q.get(source_data) for key \u001b[39m\u001b[38;5;124m'\u001b[39m\u001b[38;5;132;01m{\u001b[39;00mk\u001b[38;5;132;01m}\u001b[39;00m\u001b[38;5;124m'\u001b[39m\u001b[38;5;124m: \u001b[39m\u001b[38;5;132;01m{\u001b[39;00mresult\u001b[38;5;132;01m}\u001b[39;00m\u001b[38;5;124m\"\u001b[39m\n\u001b[1;32m   1197\u001b[0m         )\n\u001b[0;32m-> 1198\u001b[0m         arg_vals[k] \u001b[38;5;241m=\u001b[39m \u001b[38;5;28mlist\u001b[39m(result)\n\u001b[1;32m   1199\u001b[0m \u001b[38;5;28;01mexcept\u001b[39;00m \u001b[38;5;167;01mException\u001b[39;00m \u001b[38;5;28;01mas\u001b[39;00m e:\n",
      "File \u001b[0;32m/opt/homebrew/Caskroom/miniconda/base/envs/getting_started_llmops/lib/python3.11/site-packages/trulens/core/utils/serial.py:1060\u001b[0m, in \u001b[0;36mLens.get\u001b[0;34m(self, obj)\u001b[0m\n\u001b[1;32m   1059\u001b[0m \u001b[38;5;28;01mif\u001b[39;00m \u001b[38;5;28misinstance\u001b[39m(last_step, Collect):\n\u001b[0;32m-> 1060\u001b[0m     \u001b[38;5;28;01myield\u001b[39;00m \u001b[38;5;28mlist\u001b[39m(start_items)\n\u001b[1;32m   1062\u001b[0m \u001b[38;5;28;01melse\u001b[39;00m:\n",
      "File \u001b[0;32m/opt/homebrew/Caskroom/miniconda/base/envs/getting_started_llmops/lib/python3.11/site-packages/trulens/core/utils/serial.py:1063\u001b[0m, in \u001b[0;36mLens.get\u001b[0;34m(self, obj)\u001b[0m\n\u001b[1;32m   1062\u001b[0m \u001b[38;5;28;01melse\u001b[39;00m:\n\u001b[0;32m-> 1063\u001b[0m     \u001b[38;5;28;01mfor\u001b[39;00m start_selection \u001b[38;5;129;01min\u001b[39;00m start_items:\n\u001b[1;32m   1064\u001b[0m         \u001b[38;5;28;01myield from\u001b[39;00m last_step\u001b[38;5;241m.\u001b[39mget(start_selection)\n",
      "File \u001b[0;32m/opt/homebrew/Caskroom/miniconda/base/envs/getting_started_llmops/lib/python3.11/site-packages/trulens/core/utils/serial.py:1063\u001b[0m, in \u001b[0;36mLens.get\u001b[0;34m(self, obj)\u001b[0m\n\u001b[1;32m   1062\u001b[0m \u001b[38;5;28;01melse\u001b[39;00m:\n\u001b[0;32m-> 1063\u001b[0m     \u001b[38;5;28;01mfor\u001b[39;00m start_selection \u001b[38;5;129;01min\u001b[39;00m start_items:\n\u001b[1;32m   1064\u001b[0m         \u001b[38;5;28;01myield from\u001b[39;00m last_step\u001b[38;5;241m.\u001b[39mget(start_selection)\n",
      "    \u001b[0;31m[... skipping similar frames: Lens.get at line 1063 (1 times)]\u001b[0m\n",
      "File \u001b[0;32m/opt/homebrew/Caskroom/miniconda/base/envs/getting_started_llmops/lib/python3.11/site-packages/trulens/core/utils/serial.py:1063\u001b[0m, in \u001b[0;36mLens.get\u001b[0;34m(self, obj)\u001b[0m\n\u001b[1;32m   1062\u001b[0m \u001b[38;5;28;01melse\u001b[39;00m:\n\u001b[0;32m-> 1063\u001b[0m     \u001b[38;5;28;01mfor\u001b[39;00m start_selection \u001b[38;5;129;01min\u001b[39;00m start_items:\n\u001b[1;32m   1064\u001b[0m         \u001b[38;5;28;01myield from\u001b[39;00m last_step\u001b[38;5;241m.\u001b[39mget(start_selection)\n",
      "File \u001b[0;32m/opt/homebrew/Caskroom/miniconda/base/envs/getting_started_llmops/lib/python3.11/site-packages/trulens/core/utils/serial.py:1064\u001b[0m, in \u001b[0;36mLens.get\u001b[0;34m(self, obj)\u001b[0m\n\u001b[1;32m   1063\u001b[0m \u001b[38;5;28;01mfor\u001b[39;00m start_selection \u001b[38;5;129;01min\u001b[39;00m start_items:\n\u001b[0;32m-> 1064\u001b[0m     \u001b[38;5;28;01myield from\u001b[39;00m last_step\u001b[38;5;241m.\u001b[39mget(start_selection)\n",
      "File \u001b[0;32m/opt/homebrew/Caskroom/miniconda/base/envs/getting_started_llmops/lib/python3.11/site-packages/trulens/core/utils/serial.py:370\u001b[0m, in \u001b[0;36mGetItemOrAttribute.get\u001b[0;34m(self, obj)\u001b[0m\n\u001b[1;32m    369\u001b[0m     \u001b[38;5;28;01melse\u001b[39;00m:\n\u001b[0;32m--> 370\u001b[0m         \u001b[38;5;28;01mraise\u001b[39;00m \u001b[38;5;167;01mKeyError\u001b[39;00m(\n\u001b[1;32m    371\u001b[0m             \u001b[38;5;124mf\u001b[39m\u001b[38;5;124m\"\u001b[39m\u001b[38;5;124mKey not in dictionary: \u001b[39m\u001b[38;5;132;01m{\u001b[39;00m\u001b[38;5;28mself\u001b[39m\u001b[38;5;241m.\u001b[39mitem_or_attribute\u001b[38;5;132;01m}\u001b[39;00m\u001b[38;5;124m\"\u001b[39m\n\u001b[1;32m    372\u001b[0m         )\n\u001b[1;32m    373\u001b[0m \u001b[38;5;28;01melse\u001b[39;00m:\n",
      "\u001b[0;31mKeyError\u001b[0m: 'Key not in dictionary: __record__'",
      "\nThe above exception was the direct cause of the following exception:\n",
      "\u001b[0;31mInvalidSelector\u001b[0m                           Traceback (most recent call last)",
      "Cell \u001b[0;32mIn[16], line 15\u001b[0m\n\u001b[1;32m     12\u001b[0m \u001b[38;5;28mprint\u001b[39m(\u001b[38;5;124m\"\u001b[39m\u001b[38;5;124mAnswer Relevance Feedback:\u001b[39m\u001b[38;5;124m\"\u001b[39m, f_answer_relevance)\n\u001b[1;32m     14\u001b[0m \u001b[38;5;66;03m# Apply feedback definitions to generate feedback results\u001b[39;00m\n\u001b[0;32m---> 15\u001b[0m groundedness_result \u001b[38;5;241m=\u001b[39m f_groundedness\u001b[38;5;241m.\u001b[39mrun()\n\u001b[1;32m     16\u001b[0m context_relevance_result \u001b[38;5;241m=\u001b[39m f_context_relevance\u001b[38;5;241m.\u001b[39mrun()\n\u001b[1;32m     17\u001b[0m answer_relevance_result \u001b[38;5;241m=\u001b[39m f_answer_relevance\u001b[38;5;241m.\u001b[39mrun()\n",
      "File \u001b[0;32m/opt/homebrew/Caskroom/miniconda/base/envs/getting_started_llmops/lib/python3.11/site-packages/trulens/core/feedback/feedback.py:920\u001b[0m, in \u001b[0;36mFeedback.run\u001b[0;34m(self, app, record, source_data, **kwargs)\u001b[0m\n\u001b[1;32m    913\u001b[0m \u001b[38;5;28;01mif\u001b[39;00m (\n\u001b[1;32m    914\u001b[0m     \u001b[38;5;28mself\u001b[39m\u001b[38;5;241m.\u001b[39mif_missing\n\u001b[1;32m    915\u001b[0m     \u001b[38;5;241m==\u001b[39m feedback_schema\u001b[38;5;241m.\u001b[39mFeedbackOnMissingParameters\u001b[38;5;241m.\u001b[39mERROR\n\u001b[1;32m    916\u001b[0m ):\n\u001b[1;32m    917\u001b[0m     feedback_result\u001b[38;5;241m.\u001b[39mstatus \u001b[38;5;241m=\u001b[39m (\n\u001b[1;32m    918\u001b[0m         feedback_schema\u001b[38;5;241m.\u001b[39mFeedbackResultStatus\u001b[38;5;241m.\u001b[39mFAILED\n\u001b[1;32m    919\u001b[0m     )\n\u001b[0;32m--> 920\u001b[0m     \u001b[38;5;28;01mraise\u001b[39;00m e\n\u001b[1;32m    922\u001b[0m \u001b[38;5;28;01mif\u001b[39;00m (\n\u001b[1;32m    923\u001b[0m     \u001b[38;5;28mself\u001b[39m\u001b[38;5;241m.\u001b[39mif_missing\n\u001b[1;32m    924\u001b[0m     \u001b[38;5;241m==\u001b[39m feedback_schema\u001b[38;5;241m.\u001b[39mFeedbackOnMissingParameters\u001b[38;5;241m.\u001b[39mWARN\n\u001b[1;32m    925\u001b[0m ):\n\u001b[1;32m    926\u001b[0m     feedback_result\u001b[38;5;241m.\u001b[39mstatus \u001b[38;5;241m=\u001b[39m (\n\u001b[1;32m    927\u001b[0m         feedback_schema\u001b[38;5;241m.\u001b[39mFeedbackResultStatus\u001b[38;5;241m.\u001b[39mSKIPPED\n\u001b[1;32m    928\u001b[0m     )\n",
      "File \u001b[0;32m/opt/homebrew/Caskroom/miniconda/base/envs/getting_started_llmops/lib/python3.11/site-packages/trulens/core/feedback/feedback.py:901\u001b[0m, in \u001b[0;36mFeedback.run\u001b[0;34m(self, app, record, source_data, **kwargs)\u001b[0m\n\u001b[1;32m    897\u001b[0m \u001b[38;5;66;03m# Separate try block for extracting inputs from records/apps in case a\u001b[39;00m\n\u001b[1;32m    898\u001b[0m \u001b[38;5;66;03m# user specified something that does not exist. We want to fail and give\u001b[39;00m\n\u001b[1;32m    899\u001b[0m \u001b[38;5;66;03m# a warning earlier than later.\u001b[39;00m\n\u001b[1;32m    900\u001b[0m \u001b[38;5;28;01mtry\u001b[39;00m:\n\u001b[0;32m--> 901\u001b[0m     input_combinations \u001b[38;5;241m=\u001b[39m \u001b[38;5;28mlist\u001b[39m(\n\u001b[1;32m    902\u001b[0m         \u001b[38;5;28mself\u001b[39m\u001b[38;5;241m.\u001b[39m_extract_selection(\n\u001b[1;32m    903\u001b[0m             source_data\u001b[38;5;241m=\u001b[39msource_data,\n\u001b[1;32m    904\u001b[0m             combinations\u001b[38;5;241m=\u001b[39m\u001b[38;5;28mself\u001b[39m\u001b[38;5;241m.\u001b[39mcombinations,\n\u001b[1;32m    905\u001b[0m             \u001b[38;5;241m*\u001b[39m\u001b[38;5;241m*\u001b[39mkwargs,\n\u001b[1;32m    906\u001b[0m         )\n\u001b[1;32m    907\u001b[0m     )\n\u001b[1;32m    909\u001b[0m \u001b[38;5;28;01mexcept\u001b[39;00m InvalidSelector \u001b[38;5;28;01mas\u001b[39;00m e:\n\u001b[1;32m    910\u001b[0m     \u001b[38;5;66;03m# Handle the cases where a selector named something that does not\u001b[39;00m\n\u001b[1;32m    911\u001b[0m     \u001b[38;5;66;03m# exist in source data.\u001b[39;00m\n\u001b[1;32m    913\u001b[0m     \u001b[38;5;28;01mif\u001b[39;00m (\n\u001b[1;32m    914\u001b[0m         \u001b[38;5;28mself\u001b[39m\u001b[38;5;241m.\u001b[39mif_missing\n\u001b[1;32m    915\u001b[0m         \u001b[38;5;241m==\u001b[39m feedback_schema\u001b[38;5;241m.\u001b[39mFeedbackOnMissingParameters\u001b[38;5;241m.\u001b[39mERROR\n\u001b[1;32m    916\u001b[0m     ):\n",
      "File \u001b[0;32m/opt/homebrew/Caskroom/miniconda/base/envs/getting_started_llmops/lib/python3.11/site-packages/trulens/core/feedback/feedback.py:1200\u001b[0m, in \u001b[0;36mFeedback._extract_selection\u001b[0;34m(self, source_data, combinations, **kwargs)\u001b[0m\n\u001b[1;32m   1198\u001b[0m             arg_vals[k] \u001b[38;5;241m=\u001b[39m \u001b[38;5;28mlist\u001b[39m(result)\n\u001b[1;32m   1199\u001b[0m     \u001b[38;5;28;01mexcept\u001b[39;00m \u001b[38;5;167;01mException\u001b[39;00m \u001b[38;5;28;01mas\u001b[39;00m e:\n\u001b[0;32m-> 1200\u001b[0m         \u001b[38;5;28;01mraise\u001b[39;00m InvalidSelector(\n\u001b[1;32m   1201\u001b[0m             selector\u001b[38;5;241m=\u001b[39mq, source_data\u001b[38;5;241m=\u001b[39msource_data\n\u001b[1;32m   1202\u001b[0m         ) \u001b[38;5;28;01mfrom\u001b[39;00m\u001b[38;5;250m \u001b[39m\u001b[38;5;21;01me\u001b[39;00m\n\u001b[1;32m   1204\u001b[0m \u001b[38;5;66;03m# For anything specified in kwargs that did not have a selector, set the\u001b[39;00m\n\u001b[1;32m   1205\u001b[0m \u001b[38;5;66;03m# assignment here as the above loop will have missed it.\u001b[39;00m\n\u001b[1;32m   1206\u001b[0m \u001b[38;5;28;01mfor\u001b[39;00m k, v \u001b[38;5;129;01min\u001b[39;00m kwargs\u001b[38;5;241m.\u001b[39mitems():\n",
      "\u001b[0;31mInvalidSelector\u001b[0m: Selector __record__.app.retrieve_context.rets[:].collect() does not exist in source data."
     ]
    }
   ],
   "source": [
    "# Define your test prompt\n",
    "prompt = \"My cat is vomiting. What should I do?\"\n",
    "\n",
    "# Use mistral-large2 to answer the question\n",
    "with tru_rag as recording:  # Wrap in TruLens recording\n",
    "    answer = rag.query(prompt)  # RAG pipeline 使用 mistral-large2 回答问题\n",
    "\n",
    "# Add feedback to the session\n",
    "print(\"Adding Feedbacks to the session...\")\n",
    "print(\"Groundedness Feedback:\", f_groundedness)\n",
    "print(\"Context Relevance Feedback:\", f_context_relevance)\n",
    "print(\"Answer Relevance Feedback:\", f_answer_relevance)\n",
    "\n",
    "# Apply feedback definitions to generate feedback results\n",
    "groundedness_result = f_groundedness.run()\n",
    "context_relevance_result = f_context_relevance.run()\n",
    "answer_relevance_result = f_answer_relevance.run()\n",
    "\n",
    "print(tru_session.get_records())\n",
    "\n",
    "\n",
    "# Add feedback results to the session\n",
    "tru_session.add_feedback(groundedness_result)\n",
    "tru_session.add_feedback(context_relevance_result)\n",
    "tru_session.add_feedback(answer_relevance_result)\n",
    "\n",
    "leaderboard = tru_session.get_leaderboard()\n",
    "print(leaderboard)\n"
   ]
  },
  {
   "cell_type": "code",
   "execution_count": 15,
   "id": "c82dc925-1ad0-43b0-877f-ed10128bdb25",
   "metadata": {},
   "outputs": [
    {
     "name": "stdout",
     "output_type": "stream",
     "text": [
      "decorating <function context_filter.__call__.<locals>.wrapper at 0x319fcdbc0>\n",
      "adding method <class '__main__.filtered_RAG_from_scratch'> retrieve_context __main__\n"
     ]
    },
    {
     "ename": "TypeError",
     "evalue": "RAG_from_scratch.__init__() missing 1 required positional argument: 'cortex_service'",
     "output_type": "error",
     "traceback": [
      "\u001b[0;31m---------------------------------------------------------------------------\u001b[0m",
      "\u001b[0;31mTypeError\u001b[0m                                 Traceback (most recent call last)",
      "Cell \u001b[0;32mIn[15], line 20\u001b[0m\n\u001b[1;32m     14\u001b[0m \u001b[38;5;250m        \u001b[39m\u001b[38;5;124;03m\"\"\"\u001b[39;00m\n\u001b[1;32m     15\u001b[0m \u001b[38;5;124;03m        Retrieve relevant text from vector store.\u001b[39;00m\n\u001b[1;32m     16\u001b[0m \u001b[38;5;124;03m        \"\"\"\u001b[39;00m\n\u001b[1;32m     17\u001b[0m         \u001b[38;5;28;01mreturn\u001b[39;00m \u001b[38;5;28mself\u001b[39m\u001b[38;5;241m.\u001b[39mretriever\u001b[38;5;241m.\u001b[39mretrieve(query)\n\u001b[0;32m---> 20\u001b[0m filtered_rag \u001b[38;5;241m=\u001b[39m filtered_RAG_from_scratch()\n",
      "\u001b[0;31mTypeError\u001b[0m: RAG_from_scratch.__init__() missing 1 required positional argument: 'cortex_service'"
     ]
    }
   ],
   "source": [
    "from trulens.core.guardrails.base import context_filter\n",
    "\n",
    "# note: feedback function used for guardrail must only return a score, not also reasons\n",
    "f_context_relevance_score = Feedback(\n",
    "    provider.context_relevance, name=\"Context Relevance\"\n",
    ")\n",
    "\n",
    "\n",
    "class filtered_RAG_from_scratch(RAG_from_scratch):\n",
    "\n",
    "    @instrument\n",
    "    @context_filter(f_context_relevance_score, 0.75, keyword_for_prompt=\"query\")\n",
    "    def retrieve_context(self, query: str) -> list:\n",
    "        \"\"\"\n",
    "        Retrieve relevant text from vector store.\n",
    "        \"\"\"\n",
    "        return self.retriever.retrieve(query)\n",
    "\n",
    "\n",
    "filtered_rag = filtered_RAG_from_scratch()"
   ]
  },
  {
   "cell_type": "code",
   "execution_count": 12,
   "id": "f6bbb83c-3f24-40b4-9d90-15c506db537d",
   "metadata": {},
   "outputs": [
    {
     "ename": "NameError",
     "evalue": "name 'filtered_rag' is not defined",
     "output_type": "error",
     "traceback": [
      "\u001b[0;31m---------------------------------------------------------------------------\u001b[0m",
      "\u001b[0;31mNameError\u001b[0m                                 Traceback (most recent call last)",
      "Cell \u001b[0;32mIn[12], line 4\u001b[0m\n\u001b[1;32m      1\u001b[0m \u001b[38;5;28;01mfrom\u001b[39;00m\u001b[38;5;250m \u001b[39m\u001b[38;5;21;01mtrulens\u001b[39;00m\u001b[38;5;21;01m.\u001b[39;00m\u001b[38;5;21;01mapps\u001b[39;00m\u001b[38;5;21;01m.\u001b[39;00m\u001b[38;5;21;01mcustom\u001b[39;00m\u001b[38;5;250m \u001b[39m\u001b[38;5;28;01mimport\u001b[39;00m TruCustomApp\n\u001b[1;32m      3\u001b[0m tru_filtered_rag \u001b[38;5;241m=\u001b[39m TruCustomApp(\n\u001b[0;32m----> 4\u001b[0m     filtered_rag,\n\u001b[1;32m      5\u001b[0m     app_name\u001b[38;5;241m=\u001b[39m\u001b[38;5;124m\"\u001b[39m\u001b[38;5;124mRAG\u001b[39m\u001b[38;5;124m\"\u001b[39m,\n\u001b[1;32m      6\u001b[0m     app_version\u001b[38;5;241m=\u001b[39m\u001b[38;5;124m\"\u001b[39m\u001b[38;5;124mfiltered\u001b[39m\u001b[38;5;124m\"\u001b[39m,\n\u001b[1;32m      7\u001b[0m     feedbacks\u001b[38;5;241m=\u001b[39m[f_groundedness, f_answer_relevance, f_context_relevance],\n\u001b[1;32m      8\u001b[0m )\n",
      "\u001b[0;31mNameError\u001b[0m: name 'filtered_rag' is not defined"
     ]
    }
   ],
   "source": [
    "from trulens.apps.custom import TruCustomApp\n",
    "\n",
    "tru_filtered_rag = TruCustomApp(\n",
    "    filtered_rag,\n",
    "    app_name=\"RAG\",\n",
    "    app_version=\"filtered\",\n",
    "    feedbacks=[f_groundedness, f_answer_relevance, f_context_relevance],\n",
    ")"
   ]
  },
  {
   "cell_type": "code",
   "execution_count": 11,
   "id": "535e1cbd-4de5-4920-9f2a-8b45079dea54",
   "metadata": {},
   "outputs": [],
   "source": [
    "# prompts=[\n",
    "# \"I brought <pet_name> home yesterday from the pet store and she started to have diarreah started this morning, is there anything I can do at the immediate moment to help her? \",\n",
    "# \"I just brought <pet_name> home yesterday, and she has started having diarrhea this morning. Is there anything I can do right now to help her?\",\n",
    "# \"<pet_name> has been scratching his ears a lot lately. Could it be an ear infection, and how can I provide relief at home?\",\n",
    "# \"My puppy <pet_name> hasn't been eating much for the past couple of days. Is it something to worry about or could it be normal?\",\n",
    "# \"<pet_name> has been limping since our walk yesterday. What steps should I take before going to the vet?\",\n",
    "# \"I'm noticing that <pet_name> is drinking a lot more water than usual. Is this something that needs immediate attention?\",\n",
    "# \"<pet_name> seems to be panting heavily even when it's not hot. Could this be a sign of stress or illness?\",\n",
    "# \"I've noticed some redness and swelling around <pet_name>'s eyes. What can I do at home to ease the discomfort?\",\n",
    "# \"<pet_name> has been coughing for a couple of days. How do I know if this is something serious or just a minor irritation?\",\n",
    "# \"My older dog <pet_name> seems to be disoriented and pacing at night. Could this be related to dementia, and how can I help?\",\n",
    "# ]\n",
    "\n",
    "prompts = [\n",
    "    {\"question\": \"My cat is vomiting. What should I do?\", \"pet_type\": \"Large Cat\", \"chat_history\": [\"My cat has been lethargic for a few days.\"]},\n",
    "    {\"question\": \"My dog is not eating. What can I do?\", \"pet_type\": \"Large Dog\", \"chat_history\": [\"My dog has been refusing food for a day.\"]}\n",
    "]\n"
   ]
  },
  {
   "cell_type": "code",
   "execution_count": null,
   "id": "2b58fcb6-2d76-45c6-ae42-50fd6693db55",
   "metadata": {},
   "outputs": [],
   "source": [
    "with tru_rag as recording:\n",
    "    for prompt in prompts:\n",
    "        answer = rag.query(prompt[\"question\"], pet_type=prompt[\"pet_type\"], chat_history=prompt[\"chat_history\"])\n",
    "        print(answer)\n",
    "\n",
    "tru_session.get_leaderboard()"
   ]
  },
  {
   "cell_type": "code",
   "execution_count": 10,
   "id": "8442f814-9d24-43b9-9e8f-0865c30103a2",
   "metadata": {},
   "outputs": [],
   "source": [
    "snowpark_session.close()"
   ]
  }
 ],
 "metadata": {
  "kernelspec": {
   "display_name": "Python (getting_started_llmops)",
   "language": "python",
   "name": "getting_started_llmops"
  },
  "language_info": {
   "codemirror_mode": {
    "name": "ipython",
    "version": 3
   },
   "file_extension": ".py",
   "mimetype": "text/x-python",
   "name": "python",
   "nbconvert_exporter": "python",
   "pygments_lexer": "ipython3",
   "version": "3.11.11"
  }
 },
 "nbformat": 4,
 "nbformat_minor": 5
}
